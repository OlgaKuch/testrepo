{
 "cells": [
  {
   "cell_type": "markdown",
   "id": "ea43d3bb-9c9b-44f4-96f2-5c5ab89fed8b",
   "metadata": {},
   "source": [
    "# Data Science Tools and Ecosystem"
   ]
  },
  {
   "cell_type": "markdown",
   "id": "154834f4-8014-45bc-b9c9-76c54fa655e0",
   "metadata": {},
   "source": [
    "In this notebook, Data Science Tools and Ecosystem summarized."
   ]
  },
  {
   "cell_type": "markdown",
   "id": "bc9a26ca-8ebd-46ed-97e3-383337465946",
   "metadata": {},
   "source": [
    "**Objectives**\n",
    "- The list of popular languages that Data Scientists\n",
    "- The list of commonly used libraries used by Data Scientists\n",
    "- The list of Data Science Tools\n",
    "- A few examples of evaluating arithmetic expressions in Python\n"
   ]
  },
  {
   "cell_type": "markdown",
   "id": "76254a44-95bf-4a84-8f3b-032f96a0cb9d",
   "metadata": {},
   "source": [
    "Some of the popular languages that Data Scientists use are:"
   ]
  },
  {
   "cell_type": "markdown",
   "id": "28ef0d3c-40f0-4fed-9a9f-0f58fe41e996",
   "metadata": {},
   "source": [
    "1. Python\n",
    "2. R\n",
    "3. SQL\n",
    "4. Scala\n",
    "5. Java\n",
    "6. C++\n",
    "7. Julia"
   ]
  },
  {
   "cell_type": "markdown",
   "id": "a2aa6bbd-2534-4193-aac5-ddde2f3c4a9d",
   "metadata": {},
   "source": [
    "Some of the commonly used libraries used by Data Scientists include:\n",
    "- scientific\n",
    "- visualization\n",
    "- machine learning\n",
    "- deep learning\n"
   ]
  },
  {
   "cell_type": "markdown",
   "id": "5bf10a1a-0c4a-4c04-8d9a-05e900b42e34",
   "metadata": {},
   "source": [
    "| Data Science Tools |\n",
    "| ------------------ |\n",
    "| Data Management Tools |\n",
    "| Data Integration and Transformation |\n",
    "| Data Visualization Tools |"
   ]
  },
  {
   "cell_type": "markdown",
   "id": "3187561c-44cb-4dff-af49-a3ffbb4a2014",
   "metadata": {},
   "source": [
    "### Below are a few examples of evaluating arithmetic expressions in Python"
   ]
  },
  {
   "cell_type": "markdown",
   "id": "f1915e4c-b4dc-4abb-b011-7a64590768e2",
   "metadata": {},
   "source": [
    "This a simple expression to multiply then add integers"
   ]
  },
  {
   "cell_type": "code",
   "execution_count": 2,
   "id": "e5df7b24-3881-4125-8801-28b94c77bc53",
   "metadata": {},
   "outputs": [
    {
     "data": {
      "text/plain": [
       "17"
      ]
     },
     "execution_count": 2,
     "metadata": {},
     "output_type": "execute_result"
    }
   ],
   "source": [
    "3*4+5"
   ]
  },
  {
   "cell_type": "markdown",
   "id": "633339db-3d84-47d0-a720-565612e19289",
   "metadata": {},
   "source": [
    "This will convert 200 minutes to hours by diving by 60."
   ]
  },
  {
   "cell_type": "code",
   "execution_count": 3,
   "id": "a1a7daa4-6254-4dad-a5eb-6e1cdb477f8f",
   "metadata": {},
   "outputs": [
    {
     "data": {
      "text/plain": [
       "3.3333333333333335"
      ]
     },
     "execution_count": 3,
     "metadata": {},
     "output_type": "execute_result"
    }
   ],
   "source": [
    "200/60"
   ]
  },
  {
   "cell_type": "markdown",
   "id": "730911ec-f6f2-4eed-90b8-089d793c5f15",
   "metadata": {},
   "source": [
    "## Author\n",
    "Olga Kucheriava"
   ]
  },
  {
   "cell_type": "code",
   "execution_count": null,
   "id": "201221fd-f103-4ab1-bd55-f48f5768d6e7",
   "metadata": {},
   "outputs": [],
   "source": []
  }
 ],
 "metadata": {
  "kernelspec": {
   "display_name": "Python 3 (ipykernel)",
   "language": "python",
   "name": "python3"
  },
  "language_info": {
   "codemirror_mode": {
    "name": "ipython",
    "version": 3
   },
   "file_extension": ".py",
   "mimetype": "text/x-python",
   "name": "python",
   "nbconvert_exporter": "python",
   "pygments_lexer": "ipython3",
   "version": "3.12.7"
  }
 },
 "nbformat": 4,
 "nbformat_minor": 5
}
